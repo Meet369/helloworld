{
 "cells": [
  {
   "cell_type": "code",
   "execution_count": 1,
   "metadata": {},
   "outputs": [],
   "source": [
    "def calcul(daikuan,yuegong,lilv_nian=0.047,nianxian=20,huan=0,guoqu=0):\n",
    "    qian = daikuan - huan\n",
    "    for n in range(guoqu,nianxian*12):\n",
    "        qian = qian*(1+lilv_nian/12)-yuegong\n",
    "        if qian <= 0:\n",
    "            nian = int((n+1)/12)\n",
    "            yue = n-nian*12\n",
    "            print(\"第%d年%d月还清\"%(nian,yue))\n",
    "            return\n",
    "    print('还不清，还欠%f'%(qian))"
   ]
  },
  {
   "cell_type": "code",
   "execution_count": 6,
   "metadata": {},
   "outputs": [],
   "source": [
    "def run():\n",
    "    daikuan = float(input('输入您的贷款（万元）'))*10000\n",
    "    yuegong = float(input('输入您的月供（万元）'))*10000\n",
    "    select = input('您是否严格按照月供还款？（y/n）')\n",
    "    if select == 'y':\n",
    "        calcul(daikuan,yuegong)\n",
    "    elif select == 'n':\n",
    "        huan = 0\n",
    "        for m in range(1,20*12+1):\n",
    "            huan_yue = float(input('第%d个月您要还多少？（万元）'%m))*10000\n",
    "            huan = huan + huan_yue\n",
    "            select_2 = input('之后您是否按照月供还款？（y/n）')\n",
    "            if select_2 == 'y':\n",
    "                break\n",
    "        calcul(daikuan,yuegong,huan=huan,guoqu=m)"
   ]
  },
  {
   "cell_type": "code",
   "execution_count": 7,
   "metadata": {},
   "outputs": [
    {
     "name": "stdout",
     "output_type": "stream",
     "text": [
      "输入您的贷款（万元）450\n",
      "输入您的月供（万元）3\n",
      "您是否严格按照月供还款？（y/n）n\n",
      "第1个月您要还多少？（万元）100\n",
      "之后您是否按照月供还款？（y/n）y\n",
      "第13年1月还清\n"
     ]
    }
   ],
   "source": [
    "run()"
   ]
  },
  {
   "cell_type": "code",
   "execution_count": null,
   "metadata": {},
   "outputs": [],
   "source": []
  }
 ],
 "metadata": {
  "kernelspec": {
   "display_name": "Python 3",
   "language": "python",
   "name": "python3"
  },
  "language_info": {
   "codemirror_mode": {
    "name": "ipython",
    "version": 3
   },
   "file_extension": ".py",
   "mimetype": "text/x-python",
   "name": "python",
   "nbconvert_exporter": "python",
   "pygments_lexer": "ipython3",
   "version": "3.7.4"
  }
 },
 "nbformat": 4,
 "nbformat_minor": 2
}
